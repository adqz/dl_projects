{
 "cells": [
  {
   "cell_type": "code",
   "execution_count": 1,
   "metadata": {},
   "outputs": [],
   "source": [
    "# TODO !\n",
    "\n",
    "# # 3:\n",
    "# Try 3 different number of components: 10, 20, 40 and then report the results\n",
    "# when training on all emotions, try 10, 20, and 40\n",
    "# when training on only two emotions, try a much smaller number\n",
    "# report on this\n",
    "\n",
    "# # General plots as stated in 4:\n",
    "# Do k = 10, number of epochs = 50\n",
    "# Plot average over the ten folds training and holdout loss\n",
    "#     - for every 10 epochs, error bar for std\n",
    "# Plot percent correct over 50 training epochs for training and holdou\n",
    "# Average test loss and accuracy over 10 folds\n",
    "\n",
    "\n",
    "# 5 c. \n",
    "\n",
    "# do the below for 3 (goldilock style) different learning rates\n",
    "#     - generate a plot of loss for the 3 LR on one plot w/ std too\n",
    "\n",
    "# then plots from #4 (for best lr)\n",
    "# average loss and acc (for best lr)\n",
    "\n",
    "# for one principal comp cal, show a figure of the first 4\n",
    "\n",
    "# d. fear vs surprise for ALIGNED\n",
    "# using best learning rate from part c,\n",
    "# then plots from #4\n",
    "# average loss and acc\n",
    "\n",
    "# answer: does this differ from what we observed above? why?\n",
    "\n",
    "# # 6: Softmax"
   ]
  },
  {
   "cell_type": "code",
   "execution_count": 2,
   "metadata": {},
   "outputs": [],
   "source": [
    "from dataloader import Dataloader\n",
    "from classifiers import LogisticRegression\n",
    "from classifiers import SoftmaxRegression\n",
    "from trainer import Trainer\n",
    "\n",
    "import matplotlib.pyplot as plt\n",
    "import numpy as np"
   ]
  },
  {
   "cell_type": "markdown",
   "metadata": {},
   "source": [
    "## 5C: happiness vs anger on ALIGNED dataset"
   ]
  },
  {
   "cell_type": "code",
   "execution_count": 13,
   "metadata": {},
   "outputs": [
    {
     "name": "stdout",
     "output_type": "stream",
     "text": [
      "Emotions: ['fear', 'surprise', 'sadness', 'happiness', 'anger', 'disgust'] \n",
      "\n",
      "fear: 25 # of images\n",
      "surprise: 83 # of images\n",
      "sadness: 28 # of images\n",
      "happiness: 69 # of images\n",
      "anger: 45 # of images\n",
      "disgust: 59 # of images\n",
      "\n",
      "Balanced Set:\n",
      "anger: 45 # of images\n",
      "happiness: 45 # of images\n",
      "Best on fold #1, epoch 3, loss: 0.008686942282153005    accuracy: 1.0\n",
      "Best on fold #2, epoch 5, loss: 0.0007034743837297829    accuracy: 1.0\n",
      "Best on fold #3, epoch 3, loss: 0.030755731612990136    accuracy: 0.7777777777777778\n",
      "Best on fold #4, epoch 49, loss: 0.006488227686707401    accuracy: 1.0\n",
      "Best on fold #5, epoch 8, loss: 0.021559908488738174    accuracy: 0.8888888888888888\n",
      "Best on fold #6, epoch 32, loss: 0.03512517457202315    accuracy: 0.8888888888888888\n",
      "Best on fold #7, epoch 3, loss: 0.00220561400045314    accuracy: 1.0\n",
      "Best on fold #8, epoch 3, loss: 0.0016265031745477114    accuracy: 1.0\n",
      "Best on fold #9, epoch 49, loss: 0.00021478184945236266    accuracy: 1.0\n",
      "Best on fold #10, epoch 49, loss: 0.0010737639059107738    accuracy: 1.0\n"
     ]
    }
   ],
   "source": [
    "# lrs = [1e-1, 1e-4, 1e-8]\n",
    "lrs = [1e-3]\n",
    "for lr in lrs:\n",
    "    num_epochs = 50\n",
    "    num_pca_comps = 15\n",
    "    k = 10\n",
    "    dl = Dataloader(\"./facial_expressions_data/aligned/\")\n",
    "    emotions = ['anger', 'happiness']\n",
    "    method = 'batch'\n",
    "    cl = LogisticRegression()\n",
    "\n",
    "    trainer = Trainer(cl, dl, emotions, method)\n",
    "    train_eval, val_eval, test_eval = trainer.train(lr, num_epochs, num_pca_comps, k)\n",
    "\n",
    "#     train_loss, train_acc = zip(*train_eval)\n",
    "#     val_loss, val_acc = zip(*val_eval)\n",
    "#     test_loss, test_acc = zip(*test_eval)"
   ]
  },
  {
   "cell_type": "code",
   "execution_count": 14,
   "metadata": {},
   "outputs": [
    {
     "data": {
      "image/png": "[encoded data removed]",
      "text/plain": [
       "<Figure size 1080x360 with 2 Axes>"
      ]
     },
     "metadata": {
      "needs_background": "light"
     },
     "output_type": "display_data"
    }
   ],
   "source": [
    "train_loss = [np.mean([train_eval[fold][epoch][0] for fold in range(10)]) for epoch in range(50)]\n",
    "train_acc = [np.mean([train_eval[fold][epoch][1] for fold in range(10)]) for epoch in range(50)]\n",
    "\n",
    "val_loss = [np.mean([val_eval[fold][epoch][0] for fold in range(10)]) for epoch in range(50)]\n",
    "val_acc = [np.mean([val_eval[fold][epoch][1] for fold in range(10)]) for epoch in range(50)]\n",
    "\n",
    "train_loss_std = np.zeros(50)\n",
    "val_loss_std = np.zeros(50)\n",
    "train_acc_std = np.zeros(50)\n",
    "val_acc_std = np.zeros(50)\n",
    "for epoch in [9, 19, 29, 39, 49]:\n",
    "    train_loss_std[epoch] = np.std([train_eval[fold][epoch][0] for fold in range(10)])\n",
    "    train_acc_std[epoch] = np.std([train_eval[fold][epoch][1] for fold in range(10)])\n",
    "    \n",
    "    val_loss_std[epoch] = np.std([val_eval[fold][epoch][0] for fold in range(10)])\n",
    "    val_acc_std[epoch] = np.std([val_eval[fold][epoch][1] for fold in range(10)])\n",
    "\n",
    "plot_title = \"Happiness vs Anger on Aligned Dataset\"\n",
    "data = [[train_loss, val_loss], [train_acc, val_acc]]\n",
    "\n",
    "sub_titles = [\"Loss\", \"Accuracy\"]\n",
    "x_labels = [\"Epochs\" for i in range(len(data))]\n",
    "y_labels = [\"Loss\", \"Accuracy\"]\n",
    "\n",
    "fig, axs = plt.subplots(1,len(data), figsize=(15,5))\n",
    "fig.suptitle(plot_title)\n",
    "\n",
    "axs = axs.flatten()\n",
    "for i in range(len(data)):\n",
    "    axs[i].set_title(sub_titles[i])\n",
    "    axs[i].set_xlabel(x_labels[i])\n",
    "    axs[i].set_ylabel(y_labels[i])\n",
    "    \n",
    "    if i == 0:\n",
    "        axs[i].errorbar(range(len(data[i][0])), data[i][0], train_loss_std, label=\"Training\", color ='C0', ecolor='r', capthick=1)\n",
    "        axs[i].errorbar(range(len(data[i][1])), data[i][1], val_loss_std, label=\"Validation\", color ='C1', ecolor='b', capthick=1)\n",
    "    elif i == 1:\n",
    "        axs[i].plot(range(len(data[i][0])), data[i][0], label=\"Training\")\n",
    "        axs[i].plot(range(len(data[i][1])), data[i][1], label=\"Validation\")\n",
    "        \n",
    "    axs[i].plot()\n",
    "    axs[i].legend()\n",
    "# print(\"Test Loss: {} Test Accuracy: {}\".format(test_loss, test_acc))"
   ]
  },
  {
   "cell_type": "code",
   "execution_count": null,
   "metadata": {},
   "outputs": [],
   "source": [
    "test_eval"
   ]
  },
  {
   "cell_type": "markdown",
   "metadata": {},
   "source": [
    "## 5B: happiness vs anger on RESIZED dataset"
   ]
  },
  {
   "cell_type": "code",
   "execution_count": null,
   "metadata": {
    "scrolled": true
   },
   "outputs": [],
   "source": [
    "# WRITE A NON CROSS VALIDATION TRAIN\n",
    "\n",
    "lr = 1e-4\n",
    "num_epochs = 50\n",
    "num_pca_comps = 15\n",
    "k = 10\n",
    "dl = Dataloader(\"./facial_expressions_data/resized/\")\n",
    "emotions = ['anger', 'happiness']\n",
    "method = 'batch'\n",
    "cl = LogisticRegression()\n",
    "\n",
    "trainer = Trainer(cl, dl, emotions, method)\n",
    "train_eval, val_eval, test_eval = trainer.no_cross_train(lr, num_epochs, num_pca_comps, k)\n",
    "\n",
    "train_loss, train_acc = zip(*train_eval[0])\n",
    "val_loss, val_acc = zip(*val_eval[0])\n",
    "test_loss, test_acc = zip(*test_eval)"
   ]
  },
  {
   "cell_type": "code",
   "execution_count": null,
   "metadata": {},
   "outputs": [],
   "source": [
    "# plots from #4, no std because not possible\n",
    "    # training and validation loss\n",
    "    # training and validation acc\n",
    "    # test loss and acc\n",
    "\n",
    "plot_title = \"Happiness vs Anger on Resized Dataset\"\n",
    "data = [[train_loss, val_loss], [train_acc, val_acc]]\n",
    "sub_titles = [\"Loss\", \"Accuracy\"]\n",
    "x_labels = [\"Epochs\" for i in range(len(data))]\n",
    "y_labels = [\"Loss\", \"Accuracy\"]\n",
    "\n",
    "fig, axs = plt.subplots(1,len(data), figsize=(15,5))\n",
    "fig.suptitle(plot_title)\n",
    "\n",
    "axs = axs.flatten()\n",
    "for i in range(len(data)):\n",
    "    axs[i].set_title(sub_titles[i])\n",
    "    axs[i].set_xlabel(x_labels[i])\n",
    "    axs[i].set_ylabel(y_labels[i])\n",
    "    axs[i].plot(range(len(data[i][0])), data[i][0], label=\"Training\")\n",
    "    axs[i].plot(range(len(data[i][1])), data[i][1], label=\"Validation\")\n",
    "    axs[i].legend()\n",
    "print(\"Test Loss: {} Test Accuracy: {}\".format(test_loss, test_acc))"
   ]
  },
  {
   "cell_type": "code",
   "execution_count": null,
   "metadata": {},
   "outputs": [],
   "source": [
    "# then show first 4 principal components to show the poor results\n",
    "\n",
    "eigen_vectors = trainer.dataloader.top_p_eig_vectors\n",
    "fig, axs = plt.subplots(2, 2)\n",
    "axs = axs.flatten()\n",
    "fig.suptitle(\"Four Principal Components\")\n",
    "for i in range(4):\n",
    "    eig_face = eigen_vectors[:,i].reshape(122,-1)\n",
    "    axs[i].imshow(eig_face, cmap='gray')\n",
    "plt.show()"
   ]
  },
  {
   "cell_type": "code",
   "execution_count": null,
   "metadata": {},
   "outputs": [],
   "source": []
  }
 ],
 "metadata": {
  "kernelspec": {
   "display_name": "Python 3",
   "language": "python",
   "name": "python3"
  },
  "language_info": {
   "codemirror_mode": {
    "name": "ipython",
    "version": 3
   },
   "file_extension": ".py",
   "mimetype": "text/x-python",
   "name": "python",
   "nbconvert_exporter": "python",
   "pygments_lexer": "ipython3",
   "version": "3.7.6"
  }
 },
 "nbformat": 4,
 "nbformat_minor": 2
}
